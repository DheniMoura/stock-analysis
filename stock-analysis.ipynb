{
 "cells": [
  {
   "cell_type": "markdown",
   "id": "261ae956",
   "metadata": {},
   "source": [
    "# Instalação e importação de biblioecas"
   ]
  },
  {
   "cell_type": "code",
   "execution_count": null,
   "id": "76ecc726",
   "metadata": {},
   "outputs": [],
   "source": [
    "!pip install yfinance"
   ]
  },
  {
   "cell_type": "code",
   "execution_count": null,
   "id": "c55b3684",
   "metadata": {},
   "outputs": [],
   "source": [
    "!pip install statsmodels"
   ]
  },
  {
   "cell_type": "code",
   "execution_count": null,
   "id": "108a987d",
   "metadata": {},
   "outputs": [],
   "source": [
    "import pandas as pd\n",
    "import matplotlib.pyplot as plt\n",
    "from statsmodels.tsa.seasonal import seasonal_decompose\n",
    "import yfinance as yf"
   ]
  },
  {
   "cell_type": "markdown",
   "id": "f45b4c63",
   "metadata": {},
   "source": [
    "# Coleta de dados"
   ]
  },
  {
   "cell_type": "code",
   "execution_count": null,
   "id": "2a77b0b5",
   "metadata": {},
   "outputs": [],
   "source": [
    "ticket = yf.Ticker('^BVSP')\n",
    "df = ticket.history(interval='1d', start='2020-01-01', end='2022-01-01')"
   ]
  },
  {
   "cell_type": "code",
   "execution_count": null,
   "id": "8600bcca",
   "metadata": {},
   "outputs": [],
   "source": [
    "df"
   ]
  },
  {
   "cell_type": "code",
   "execution_count": null,
   "id": "8f8c90b5",
   "metadata": {},
   "outputs": [],
   "source": [
    "df.tail() #mostra as últimas linhas"
   ]
  },
  {
   "cell_type": "code",
   "execution_count": null,
   "id": "0454a604",
   "metadata": {},
   "outputs": [],
   "source": [
    "df[['Close']].info()"
   ]
  },
  {
   "cell_type": "code",
   "execution_count": null,
   "id": "ab1c12d1",
   "metadata": {},
   "outputs": [],
   "source": [
    "df[['Close']].head() #mostra as primeiras linhas"
   ]
  },
  {
   "cell_type": "code",
   "execution_count": null,
   "id": "f828a1fc",
   "metadata": {},
   "outputs": [],
   "source": [
    "df[['Close']].plot()"
   ]
  },
  {
   "cell_type": "markdown",
   "id": "ecad694a",
   "metadata": {},
   "source": [
    "# Decomposição temporal (modelo aditivo / modelo multiplicativo)"
   ]
  },
  {
   "cell_type": "code",
   "execution_count": null,
   "id": "4eecb324",
   "metadata": {
    "scrolled": false
   },
   "outputs": [],
   "source": [
    "decomposicao = seasonal_decompose(df[['Close']], model='additive', period=30, extrapolate_trend=30)"
   ]
  },
  {
   "cell_type": "code",
   "execution_count": null,
   "id": "d7dc6037",
   "metadata": {},
   "outputs": [],
   "source": [
    "decomposicao.plot()"
   ]
  },
  {
   "cell_type": "code",
   "execution_count": null,
   "id": "a5e4a6bc",
   "metadata": {},
   "outputs": [],
   "source": [
    "decomposicao_multi = seasonal_decompose(df[['Close']], model='multiplicative', period=30, extrapolate_trend=30)"
   ]
  },
  {
   "cell_type": "code",
   "execution_count": null,
   "id": "9c9b48aa",
   "metadata": {},
   "outputs": [],
   "source": [
    "decomposicao_multi.plot()"
   ]
  },
  {
   "cell_type": "code",
   "execution_count": null,
   "id": "5a891edc",
   "metadata": {},
   "outputs": [],
   "source": [
    "max(decomposicao.resid)"
   ]
  },
  {
   "cell_type": "markdown",
   "id": "58e69380",
   "metadata": {},
   "source": [
    "No gráfico a seguir a linha azul é referente ao valor do ticker, enquanto a linha laranja é a linha de tendência"
   ]
  },
  {
   "cell_type": "code",
   "execution_count": null,
   "id": "4a1a273c",
   "metadata": {},
   "outputs": [],
   "source": [
    "ax, fig = plt.subplots(figsize=(15,8))\n",
    "plt.plot(decomposicao.observed)\n",
    "plt.plot(decomposicao.trend)"
   ]
  },
  {
   "cell_type": "code",
   "execution_count": null,
   "id": "95a9236e",
   "metadata": {},
   "outputs": [],
   "source": [
    "fig,(ax1,ax2,ax3,ax4) = plt.subplots(4,1, figsize=(12,8))\n",
    "decomposicao.observed.plot(ax=ax1)\n",
    "decomposicao.trend.plot(ax=ax2)\n",
    "decomposicao.seasonal.plot(ax=ax3)\n",
    "decomposicao.resid.plot(ax=ax4)\n",
    "plt.tight_layout() #Serve para melhorar um pouco o layout de apresentação"
   ]
  },
  {
   "cell_type": "markdown",
   "id": "2a8f31e7",
   "metadata": {},
   "source": [
    "# Cálculo de média móvel"
   ]
  },
  {
   "cell_type": "code",
   "execution_count": null,
   "id": "8e5cff4c",
   "metadata": {},
   "outputs": [],
   "source": [
    "df['Close'].rolling(7).mean() #o método rolling faz a média móvelna janela de tempo determinada"
   ]
  },
  {
   "cell_type": "code",
   "execution_count": null,
   "id": "4c01d128",
   "metadata": {},
   "outputs": [],
   "source": [
    "media_movel9d = df['Close'].rolling(9).mean()\n",
    "media_movel20d = df['Close'].rolling(20).mean()\n",
    "media_movel50d = df['Close'].rolling(50).mean()"
   ]
  },
  {
   "cell_type": "code",
   "execution_count": null,
   "id": "9d42cdeb",
   "metadata": {},
   "outputs": [],
   "source": [
    "fig, ax = plt.subplots(figsize=(12,5))\n",
    "plt.plot(media_movel9d, 'orange')\n",
    "plt.plot(media_movel20d, 'red')\n",
    "plt.plot(media_movel50d, 'black')\n",
    "plt.plot(df['Close'])"
   ]
  },
  {
   "cell_type": "markdown",
   "id": "315d010f",
   "metadata": {},
   "source": [
    "# Extração de features"
   ]
  },
  {
   "cell_type": "code",
   "execution_count": null,
   "id": "1050a629",
   "metadata": {},
   "outputs": [],
   "source": [
    "df.head()"
   ]
  },
  {
   "cell_type": "code",
   "execution_count": null,
   "id": "66ed0abe",
   "metadata": {},
   "outputs": [],
   "source": [
    "df.reset_index(inplace=True)"
   ]
  },
  {
   "cell_type": "code",
   "execution_count": null,
   "id": "9f42376c",
   "metadata": {},
   "outputs": [],
   "source": [
    "df.head()"
   ]
  },
  {
   "cell_type": "markdown",
   "id": "3bf458ad",
   "metadata": {},
   "source": [
    "Continua"
   ]
  }
 ],
 "metadata": {
  "kernelspec": {
   "display_name": "Python 3",
   "language": "python",
   "name": "python3"
  },
  "language_info": {
   "codemirror_mode": {
    "name": "ipython",
    "version": 3
   },
   "file_extension": ".py",
   "mimetype": "text/x-python",
   "name": "python",
   "nbconvert_exporter": "python",
   "pygments_lexer": "ipython3",
   "version": "3.6.15"
  }
 },
 "nbformat": 4,
 "nbformat_minor": 5
}
